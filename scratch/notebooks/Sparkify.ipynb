{
 "cells": [
  {
   "cell_type": "code",
   "execution_count": 1,
   "metadata": {},
   "outputs": [],
   "source": [
    "# Import necessary libraries\n",
    "\n",
    "import pyspark\n",
    "import numpy as np\n",
    "import pandas as pd\n",
    "import matplotlib.pyplot as plt\n",
    "\n",
    "from pyspark.sql import SparkSession\n",
    "import pyspark.sql.functions as F\n",
    "from pyspark.sql.types import IntegerType\n",
    "from pyspark.sql.functions import when\n",
    "\n",
    "from pyspark.ml.classification import RandomForestClassifier, LogisticRegression\n",
    "from pyspark.ml.classification import DecisionTreeClassifier, GBTClassifier\n",
    "from pyspark.ml.classification import LinearSVC\n",
    "from pyspark.ml import Pipeline\n",
    "from pyspark.ml.feature import StringIndexer, VectorAssembler, StandardScaler, MinMaxScaler\n",
    "from pyspark.ml.feature import OneHotEncoder, VectorSlicer\n",
    "from pyspark.ml.tuning import ParamGridBuilder, CrossValidator\n",
    "from pyspark.ml.evaluation import BinaryClassificationEvaluator\n",
    "\n",
    "from sklearn.metrics import f1_score, recall_score, precision_score"
   ]
  },
  {
   "cell_type": "code",
   "execution_count": 2,
   "metadata": {},
   "outputs": [],
   "source": [
    "spark = SparkSession.builder.appName(\"Sparkify\").getOrCreate()"
   ]
  },
  {
   "cell_type": "code",
   "execution_count": 3,
   "metadata": {},
   "outputs": [],
   "source": [
    "path = \"user_data_agg.json\"\n",
    "df = spark.read.json(path)"
   ]
  },
  {
   "cell_type": "code",
   "execution_count": 4,
   "metadata": {},
   "outputs": [],
   "source": [
    "# Create pipeline for data processing by Spark\n",
    "\n",
    "categoricalColumns = [\"gender\", \"region\"]\n",
    "numericCols = ['avg_mins_on_date',\n",
    " 'avg_nextsong_per_day',\n",
    " 'avg_nextsong_per_month',\n",
    " 'avg_submit_downgrade_per_day',\n",
    " 'avg_submit_downgrade_per_month',\n",
    " 'avg_submit_upgrade_per_day',\n",
    " 'avg_submit_upgrade_per_month',\n",
    " 'avg_sum_about_per_day',\n",
    " 'avg_sum_about_per_month',\n",
    " 'avg_sum_add_friend_per_day',\n",
    " 'avg_sum_add_friend_per_month',\n",
    " 'avg_sum_add_playlist_per_day',\n",
    " 'avg_sum_add_playlist_per_month',\n",
    " 'avg_sum_downgrade_per_day',\n",
    " 'avg_sum_downgrade_per_month',\n",
    " 'avg_sum_error_per_day',\n",
    " 'avg_sum_error_per_month',\n",
    " 'avg_sum_help_per_day',\n",
    " 'avg_sum_help_per_month',\n",
    " 'avg_sum_home_month',\n",
    " 'avg_sum_home_per_day',\n",
    " 'avg_sum_logout_per_day',\n",
    " 'avg_sum_logout_per_month',\n",
    " 'avg_sum_roll_advert_per_day',\n",
    " 'avg_sum_roll_advert_per_month',\n",
    " 'avg_sum_save_settings_per_day',\n",
    " 'avg_sum_save_settings_per_month',\n",
    " 'avg_sum_settings_per_day',\n",
    " 'avg_sum_settings_per_month',\n",
    " 'avg_sum_thumbs_down_per_day',\n",
    " 'avg_sum_thumbs_down_per_month',\n",
    " 'avg_sum_thumbs_up_per_day',\n",
    " 'avg_sum_thumbs_up_per_month',\n",
    " 'avg_sum_upgrade_per_day',\n",
    " 'avg_sum_upgrade_per_month',\n",
    " 'avg_visits_next_songs',\n",
    " 'paid_pct',\n",
    " 'pct_total_pos_engagement',\n",
    "              ]\n",
    "stages = [] # stages in Pipeline\n",
    "\n",
    "for categoricalCol in categoricalColumns:\n",
    "    stringIndexer = StringIndexer(inputCol=categoricalCol, outputCol=categoricalCol + \"Index\")\n",
    "    encoder = OneHotEncoder(inputCol=stringIndexer.getOutputCol(), outputCol=categoricalCol + \"classVec\")\n",
    "    stages += [stringIndexer, encoder]\n",
    "\n",
    "label_stringIdx = StringIndexer(inputCol=\"churned\", outputCol=\"label\")\n",
    "stages += [label_stringIdx]\n",
    "\n",
    "assemblerInputs = [c + \"classVec\" for c in categoricalColumns] + numericCols\n",
    "assembler = VectorAssembler(inputCols=assemblerInputs, outputCol=\"vectorized_features\")\n",
    "stages += [assembler]\n",
    "\n",
    "scaler = MinMaxScaler(inputCol=\"vectorized_features\", outputCol=\"features\")\n",
    "stages += [scaler]"
   ]
  },
  {
   "cell_type": "code",
   "execution_count": 5,
   "metadata": {},
   "outputs": [],
   "source": [
    "# Split data into train and test. Use pipeline to process the data for analysis.\n",
    "\n",
    "cols = numericCols + categoricalColumns + ['churned']\n",
    "train, test = df[cols].randomSplit([0.8, 0.2], seed=1973)\n",
    "\n",
    "partialPipeline = Pipeline().setStages(stages)\n",
    "pipelineModel = partialPipeline.fit(train)\n",
    "train_df = pipelineModel.transform(train)\n",
    "\n",
    "selectedCols = ['label', 'features'] + cols\n",
    "train_df = train_df.select(selectedCols)\n",
    "\n",
    "test_df = pipelineModel.transform(test)"
   ]
  },
  {
   "cell_type": "code",
   "execution_count": 6,
   "metadata": {},
   "outputs": [],
   "source": [
    "def get_metrics(predictions):\n",
    "    \"\"\"Calculate metrics\"\"\"\n",
    "    selected = predictions.toPandas()\n",
    "    f1 = f1_score(selected.label, selected.prediction)\n",
    "    recall = recall_score(selected.label, selected.prediction)\n",
    "    precision = precision_score(selected.label, selected.prediction)\n",
    "\n",
    "    area_under_PR = evaluator.evaluate(predictions)\n",
    "    \n",
    "    return f1, recall, precision, area_under_PR"
   ]
  },
  {
   "cell_type": "markdown",
   "metadata": {},
   "source": [
    "### 1. Initial Random Forest model for feature selection"
   ]
  },
  {
   "cell_type": "markdown",
   "metadata": {},
   "source": [
    "Sort feature importances [https://people.stat.sc.edu/haigang/improvement.html]. These will be used to select the more important features."
   ]
  },
  {
   "cell_type": "code",
   "execution_count": 7,
   "metadata": {},
   "outputs": [],
   "source": [
    "evaluator = BinaryClassificationEvaluator(metricName=\"areaUnderPR\") \n",
    "rf = RandomForestClassifier(labelCol=\"label\", featuresCol=\"features\", seed=1973)\n",
    "rf_model = rf.fit(train_df)"
   ]
  },
  {
   "cell_type": "code",
   "execution_count": 8,
   "metadata": {},
   "outputs": [],
   "source": [
    "importance_list = pd.Series(rf_model.featureImportances.values)\n",
    "sorted_imp = importance_list.sort_values(ascending= False)"
   ]
  },
  {
   "cell_type": "markdown",
   "metadata": {},
   "source": [
    "Use the feature importance values to select features for the training set. Select a cut-off value that maximizes the area under the precision-recall curve for the modified training sets. Depending on the cut-off chosen each training set will have different number of features"
   ]
  },
  {
   "cell_type": "code",
   "execution_count": 9,
   "metadata": {},
   "outputs": [],
   "source": [
    "cut_offs = np.arange(0.010, 0.080, 0.005) \n",
    " \n",
    "train_pr = []\n",
    "\n",
    "for c in cut_offs:\n",
    "\n",
    "    kept = list((sorted_imp[sorted_imp > c]).index)\n",
    "    vector_slicer = VectorSlicer(inputCol= \"features\", indices= kept, outputCol=\"feature_subset\")\n",
    "    with_selected_feature = vector_slicer.transform(train_df)\n",
    "\n",
    "    rf_modified = RandomForestClassifier(featuresCol=\"feature_subset\", seed=1973)\n",
    "    \n",
    "    rf_model = rf_modified.fit(with_selected_feature)\n",
    "    predictions_modified = rf_model.transform(with_selected_feature)\n",
    "    \n",
    "    evaluator_modified = BinaryClassificationEvaluator(metricName=\"areaUnderPR\")\n",
    "    train_pr.append(evaluator_modified.evaluate(predictions_modified))\n"
   ]
  },
  {
   "cell_type": "code",
   "execution_count": 10,
   "metadata": {},
   "outputs": [
    {
     "data": {
      "image/png": "[encoded data removed]",
      "text/plain": [
       "<matplotlib.figure.Figure at 0x7f465e3e2ac8>"
      ]
     },
     "metadata": {
      "needs_background": "light"
     },
     "output_type": "display_data"
    }
   ],
   "source": [
    "#Plot areaUnderPR vs cut-offs\n",
    "plt.plot(cut_offs, train_pr, alpha=0.5, color='r', label=\"pr\")\n",
    "\n",
    "plt.legend()\n",
    "plt.show();"
   ]
  },
  {
   "cell_type": "code",
   "execution_count": 11,
   "metadata": {},
   "outputs": [
    {
     "name": "stdout",
     "output_type": "stream",
     "text": [
      "Number of variables selected: 31\n"
     ]
    }
   ],
   "source": [
    "#Index of cut-off at which area under PR is maximized\n",
    "max_idx = np.where((np.round(train_pr, 10) == (np.round(max(train_pr), 10))))\n",
    "print(f\"Number of variables selected: {len(sorted_imp[sorted_imp > cut_offs[max_idx[0][0]]])}\")"
   ]
  },
  {
   "cell_type": "code",
   "execution_count": 12,
   "metadata": {},
   "outputs": [],
   "source": [
    "#Keep reduced set of features in train, test\n",
    "kept = list((sorted_imp[sorted_imp > cut_offs[max_idx[0][0]]]).index)\n",
    "vector_slicer = VectorSlicer(inputCol= \"features\", indices= kept, outputCol=\"feature_subset\")\n",
    "train_df_reduced = vector_slicer.transform(train_df)\n",
    "\n",
    "test_df_reduced = vector_slicer.transform(test_df)"
   ]
  },
  {
   "cell_type": "code",
   "execution_count": 13,
   "metadata": {},
   "outputs": [],
   "source": [
    "#Set area under PR as the metric. \n",
    "evaluator_modified = BinaryClassificationEvaluator(metricName=\"areaUnderPR\")"
   ]
  },
  {
   "cell_type": "markdown",
   "metadata": {},
   "source": [
    "### 2. Random Forest"
   ]
  },
  {
   "cell_type": "markdown",
   "metadata": {},
   "source": [
    "Fit the random forest model with reduced set of variables. "
   ]
  },
  {
   "cell_type": "code",
   "execution_count": 14,
   "metadata": {},
   "outputs": [],
   "source": [
    "#Fit a random forests model with default settings\n",
    "rf = RandomForestClassifier(featuresCol=\"feature_subset\", seed=1973)\n",
    "rf_default = rf.fit(train_df_reduced)\n",
    "\n",
    "# Make predictions on all train data\n",
    "predictions = rf_default.transform(train_df_reduced)"
   ]
  },
  {
   "cell_type": "code",
   "execution_count": 15,
   "metadata": {},
   "outputs": [
    {
     "name": "stdout",
     "output_type": "stream",
     "text": [
      "Feature subset strategy: auto\n",
      "Feature subsampling rate: 1.0\n",
      "Number of trees: 20\n",
      "Max depth: 5\n"
     ]
    }
   ],
   "source": [
    "print(f\"Feature subset strategy: {rf_default._java_obj.getFeatureSubsetStrategy()}\")\n",
    "print(f\"Feature subsampling rate: {rf_default._java_obj.getSubsamplingRate()}\")\n",
    "print(f\"Number of trees: {rf_default._java_obj.getNumTrees()}\")\n",
    "print(f\"Max depth: {rf_default._java_obj.getMaxDepth()}\")"
   ]
  },
  {
   "cell_type": "code",
   "execution_count": 16,
   "metadata": {},
   "outputs": [
    {
     "name": "stdout",
     "output_type": "stream",
     "text": [
      "F1-Score: 0.607, Recall: 0.436, Precision: 1.000, Area under PR: 0.903\n"
     ]
    }
   ],
   "source": [
    "f1, recall, precision, area_under_PR = get_metrics(predictions)\n",
    "print(f'F1-Score: {f1:.3f}, Recall: {recall:.3f}, Precision: {precision:.3f}, Area under PR: {area_under_PR:.3f}')"
   ]
  },
  {
   "cell_type": "markdown",
   "metadata": {},
   "source": [
    "#### Grid search: \n",
    "Use grid search with cross-validation to find best model parameters"
   ]
  },
  {
   "cell_type": "code",
   "execution_count": 17,
   "metadata": {},
   "outputs": [],
   "source": [
    "rf_modified = RandomForestClassifier(featuresCol=\"feature_subset\", seed=1973)\n",
    "\n",
    "paramGrid = (ParamGridBuilder()\n",
    "             .addGrid(rf_modified.featureSubsetStrategy, ['4', '6', '8'])\n",
    "             .addGrid(rf_modified.subsamplingRate, [0.8, 1])\n",
    "             .addGrid(rf_modified.maxDepth, [5, 8])\n",
    "             .build())\n",
    "\n",
    "cv = CrossValidator(estimator=rf_modified, estimatorParamMaps=paramGrid, \n",
    "                    evaluator=evaluator_modified, numFolds=5, seed=1973)\n",
    "cv_Model = cv.fit(train_df_reduced)\n",
    "\n",
    "best_model = cv_Model.bestModel"
   ]
  },
  {
   "cell_type": "code",
   "execution_count": 18,
   "metadata": {},
   "outputs": [],
   "source": [
    "fss = best_model._java_obj.getFeatureSubsetStrategy()\n",
    "ssr = best_model._java_obj.getSubsamplingRate()\n",
    "num_trees = best_model._java_obj.getNumTrees()\n",
    "max_depth = best_model._java_obj.getMaxDepth()"
   ]
  },
  {
   "cell_type": "code",
   "execution_count": 20,
   "metadata": {},
   "outputs": [],
   "source": [
    "#Fit the best model on the entire training set\n",
    "\n",
    "rf_complete = RandomForestClassifier(featuresCol=\"feature_subset\", subsamplingRate=ssr, maxDepth=max_depth, \n",
    "                                     featureSubsetStrategy=fss, seed=1973)\n",
    "rf_complete_model = rf_complete.fit(train_df_reduced)\n",
    "\n",
    "# Make predictions on all train data\n",
    "predictions = rf_complete_model.transform(train_df_reduced)\n"
   ]
  },
  {
   "cell_type": "code",
   "execution_count": 21,
   "metadata": {},
   "outputs": [
    {
     "name": "stdout",
     "output_type": "stream",
     "text": [
      "F1-Score: 0.818, Recall: 0.692, Precision: 1.000, Area under PR: 0.998\n"
     ]
    }
   ],
   "source": [
    "f1, recall, precision, area_under_PR = get_metrics(predictions)\n",
    "print(f'F1-Score: {f1:.3f}, Recall: {recall:.3f}, Precision: {precision:.3f}, Area under PR: {area_under_PR:.3f}')"
   ]
  },
  {
   "cell_type": "markdown",
   "metadata": {},
   "source": [
    "### 3. Logistic Regression"
   ]
  },
  {
   "cell_type": "code",
   "execution_count": 22,
   "metadata": {},
   "outputs": [],
   "source": [
    "#Create weight variable to address the class imbalance in the target\n",
    "dataset_size = float(train_df.select(\"label\").count())\n",
    "numPositives = train_df.select(\"label\").where('label == 1').count()\n",
    "per_ones = (float(numPositives)/float(dataset_size))*100\n",
    "numNegatives = float(dataset_size - numPositives)\n",
    "BalancingRatio = numNegatives/dataset_size"
   ]
  },
  {
   "cell_type": "code",
   "execution_count": 23,
   "metadata": {},
   "outputs": [
    {
     "name": "stdout",
     "output_type": "stream",
     "text": [
      "The number of ones are 78\n",
      "Percentage of ones are 22.413793103448278\n",
      "Balancing ratio 0.7758620689655172\n"
     ]
    }
   ],
   "source": [
    "print('The number of ones are {}'.format(numPositives))\n",
    "print('Percentage of ones are {}'.format(per_ones))\n",
    "print('Balancing ratio {}'.format(BalancingRatio))"
   ]
  },
  {
   "cell_type": "code",
   "execution_count": 24,
   "metadata": {},
   "outputs": [],
   "source": [
    "#Add the weights variable to the train set\n",
    "train_with_weights = train_df_reduced.withColumn(\"classWeights\", \n",
    "                                                               when(train_df.label == 1, \n",
    "                                                                    BalancingRatio).otherwise(1 - BalancingRatio))"
   ]
  },
  {
   "cell_type": "markdown",
   "metadata": {},
   "source": [
    "Fit a logistic regression model with the reduced set of variables. Use grid search with cross-validation to find best model parameters"
   ]
  },
  {
   "cell_type": "code",
   "execution_count": 25,
   "metadata": {},
   "outputs": [],
   "source": [
    "lr = LogisticRegression(labelCol=\"label\", featuresCol=\"feature_subset\", weightCol=\"classWeights\")\n",
    "\n",
    "paramGrid = (ParamGridBuilder()\n",
    "            .addGrid(lr.regParam, [0.01, 0.5, 2.0])\n",
    "            .addGrid(lr.elasticNetParam, [0.0, 0.5, 1.0])\n",
    "            .addGrid(lr.maxIter, [10, 15])\n",
    "            .addGrid(lr.threshold, [0.4, 0.5, 0.6])\n",
    "            .build())\n",
    "\n",
    "cv = CrossValidator(estimator=lr, estimatorParamMaps=paramGrid, \n",
    "                    evaluator=evaluator_modified, numFolds=5, seed=1973)\n",
    "cv_Model = cv.fit(train_with_weights)\n",
    "best_model = cv_Model.bestModel\n"
   ]
  },
  {
   "cell_type": "code",
   "execution_count": 26,
   "metadata": {},
   "outputs": [],
   "source": [
    "enp = best_model._java_obj.getElasticNetParam()\n",
    "rp = best_model._java_obj.getRegParam()\n",
    "max_iter = best_model._java_obj.getMaxIter()\n",
    "threshold = best_model._java_obj.getThreshold()"
   ]
  },
  {
   "cell_type": "code",
   "execution_count": 27,
   "metadata": {},
   "outputs": [],
   "source": [
    "#Fit the model with the best parameters on the entire training set\n",
    "lr_complete = LogisticRegression(labelCol=\"label\", featuresCol=\"feature_subset\", weightCol=\"classWeights\",\n",
    "                       threshold=threshold, elasticNetParam=enp, regParam=rp, maxIter=max_iter)\n",
    "lr_complete_model = lr_complete.fit(train_with_weights)\n",
    "\n",
    "# Make predictions on all train data\n",
    "predictions = lr_complete_model.transform(train_with_weights)\n"
   ]
  },
  {
   "cell_type": "code",
   "execution_count": 28,
   "metadata": {},
   "outputs": [
    {
     "name": "stdout",
     "output_type": "stream",
     "text": [
      "F1-Score: 0.401, Recall: 0.949, Precision: 0.254, Area under PR: 0.563\n"
     ]
    }
   ],
   "source": [
    "f1, recall, precision, area_under_PR = get_metrics(predictions)\n",
    "print(f'F1-Score: {f1:.3f}, Recall: {recall:.3f}, Precision: {precision:.3f}, Area under PR: {area_under_PR:.3f}')"
   ]
  },
  {
   "cell_type": "markdown",
   "metadata": {},
   "source": [
    "### 4. Decision Trees"
   ]
  },
  {
   "cell_type": "markdown",
   "metadata": {},
   "source": [
    "Fit the decision tree model with reduced set of variables. Use grid search with cross-validation to find best model parameters."
   ]
  },
  {
   "cell_type": "code",
   "execution_count": 29,
   "metadata": {},
   "outputs": [],
   "source": [
    "dt = DecisionTreeClassifier(labelCol='label', featuresCol='feature_subset')\n",
    "\n",
    "paramGrid = (ParamGridBuilder()\n",
    "             .addGrid(dt.maxDepth, [4, 5, 6])\n",
    "             .addGrid(dt.maxBins, [20, 40, 60])\n",
    "             .build())\n",
    "\n",
    "cv = CrossValidator(estimator=dt, estimatorParamMaps=paramGrid, \n",
    "                    evaluator=evaluator_modified, numFolds=5, seed=1973)\n",
    "cv_Model = cv.fit(train_df_reduced)\n",
    "\n",
    "best_model = cv_Model.bestModel"
   ]
  },
  {
   "cell_type": "code",
   "execution_count": 30,
   "metadata": {},
   "outputs": [],
   "source": [
    "max_depth = best_model._java_obj.getMaxDepth()\n",
    "max_bins = best_model._java_obj.getMaxBins()"
   ]
  },
  {
   "cell_type": "code",
   "execution_count": 31,
   "metadata": {},
   "outputs": [],
   "source": [
    "#Fit the model with the best parameters on the entire training set\n",
    "dt_complete = DecisionTreeClassifier(labelCol='label', featuresCol='feature_subset', seed=1973,\n",
    "                                     maxDepth=max_depth, maxBins=max_bins)\n",
    "dt_complete_model = dt_complete.fit(train_df_reduced)\n",
    "\n",
    "# Make predictions on all train data\n",
    "predictions = dt_complete_model.transform(train_df_reduced)"
   ]
  },
  {
   "cell_type": "code",
   "execution_count": 32,
   "metadata": {},
   "outputs": [
    {
     "name": "stdout",
     "output_type": "stream",
     "text": [
      "F1-Score: 0.791, Recall: 0.654, Precision: 1.000, Area under PR: 0.321\n"
     ]
    }
   ],
   "source": [
    "f1, recall, precision, area_under_PR = get_metrics(predictions)\n",
    "print(f'F1-Score: {f1:.3f}, Recall: {recall:.3f}, Precision: {precision:.3f}, Area under PR: {area_under_PR:.3f}')"
   ]
  },
  {
   "cell_type": "markdown",
   "metadata": {},
   "source": [
    "### Fit best model to test data"
   ]
  },
  {
   "cell_type": "code",
   "execution_count": 60,
   "metadata": {},
   "outputs": [],
   "source": [
    "evaluator_modified = BinaryClassificationEvaluator(metricName=\"areaUnderPR\")\n",
    "\n",
    "# Make predictions on test data\n",
    "predictions = lr_complete_model.transform(test_df_reduced)"
   ]
  },
  {
   "cell_type": "code",
   "execution_count": 61,
   "metadata": {},
   "outputs": [
    {
     "name": "stdout",
     "output_type": "stream",
     "text": [
      "F1-Score: 0.340, Recall: 0.900, Precision: 0.209, Area under PR: 0.378\n"
     ]
    }
   ],
   "source": [
    "#lr\n",
    "f1, recall, precision, area_under_PR = get_metrics(predictions)\n",
    "print(f'F1-Score: {f1:.3f}, Recall: {recall:.3f}, Precision: {precision:.3f}, Area under PR: {area_under_PR:.3f}')"
   ]
  },
  {
   "cell_type": "markdown",
   "metadata": {},
   "source": [
    "We use the logistic model despite it having a lower area under pr value compared to the random forest model. The latter appears to be overfitting. We still get a rather poor f1-score but a high recall. We are able to capture most of the users that churned but at the cost of having false positives which lowers precision."
   ]
  },
  {
   "cell_type": "markdown",
   "metadata": {},
   "source": [
    "**References:**\n",
    "- https://people.stat.sc.edu/haigang/improvement.html\n",
    "- https://datascience.stackexchange.com/questions/13960/how-to-choose-a-classifier-after-cross-validation\n",
    "- https://stats.stackexchange.com/questions/2306/feature-selection-for-final-model-when-performing-cross-validation-in-machine\n",
    "- https://medium.com/swlh/logistic-regression-with-pyspark-60295d41221\n",
    "- https://towardsdatascience.com/predict-customer-churn-using-pyspark-machine-learning-519e866449b5\n",
    "- https://docs.databricks.com/_static/notebooks/binary-classification.html\n",
    "- https://machinelearningmastery.com/feature-selection-with-real-and-categorical-data/\n",
    "- https://stackoverflow.com/questions/53528481/feature-selection-in-pyspark"
   ]
  }
 ],
 "metadata": {
  "kernelspec": {
   "display_name": "Python 3",
   "language": "python",
   "name": "python3"
  },
  "language_info": {
   "codemirror_mode": {
    "name": "ipython",
    "version": 3
   },
   "file_extension": ".py",
   "mimetype": "text/x-python",
   "name": "python",
   "nbconvert_exporter": "python",
   "pygments_lexer": "ipython3",
   "version": "3.6.3"
  }
 },
 "nbformat": 4,
 "nbformat_minor": 2
}
